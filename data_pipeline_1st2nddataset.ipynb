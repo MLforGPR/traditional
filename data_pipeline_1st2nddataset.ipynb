{
 "cells": [
  {
   "cell_type": "code",
   "execution_count": 9,
   "metadata": {},
   "outputs": [],
   "source": [
    "import copy\n",
    "import cv2\n",
    "import joblib\n",
    "import matplotlib.pyplot as plt\n",
    "import math\n",
    "import numpy as np"
   ]
  },
  {
   "cell_type": "code",
   "execution_count": 10,
   "metadata": {},
   "outputs": [],
   "source": [
    "#lbp\n",
    "import cv2\n",
    "from skimage.feature import local_binary_pattern\n",
    "def lbp_histogram(image, radius, bins):\n",
    "    # compute the LBP histogram of the image\n",
    "    n_points = 8 * radius\n",
    "    lbp = local_binary_pattern(image, n_points, radius, method='uniform')\n",
    "    hist, _ = np.histogram(lbp, bins= bins, range= (0,255), density=False)\n",
    "    return np.ravel(hist)\n",
    "\n",
    "def norm(feature): #normalization of single feature bins\n",
    "    norm = np.linalg.norm(feature[:len(feature)])\n",
    "    for i in range(len(feature)):\n",
    "        feature[i] = feature[i] / norm\n",
    "    return feature\n",
    "\n",
    "# HoG\n",
    "from skimage.feature import hog\n",
    "def hog_(image, orientations, image_size, pixels_per_cell):\n",
    "#     gray_img = np.dot(image[..., :3], [0.2989, 0.5870, 0.1140])\n",
    "    fd, hog_image = hog(image, orientations= orientations, pixels_per_cell=(pixels_per_cell, pixels_per_cell),\n",
    "                \tcells_per_block=(2, 2), visualize=True, feature_vector = True)\n",
    "    return fd"
   ]
  },
  {
   "cell_type": "code",
   "execution_count": 11,
   "metadata": {},
   "outputs": [],
   "source": [
    "def label_voting(validate_result, threshold, image_shape, sliding_window_size, step, image_start):\n",
    "    height = math.ceil((image_shape[0] - sliding_window_size - image_start[0]) / step)\n",
    "    width = math.ceil((image_shape[1] - sliding_window_size - image_start[1]) / step)\n",
    "    voting = np.zeros((height + 4, width + 4))\n",
    "    total = np.zeros((height + 4, width + 4))\n",
    "\n",
    "    for j in range(height):\n",
    "        for i in range(width):\n",
    "            p = validate_result[i + j * width, 1]\n",
    "            voting[j : j + 5, i : i + 5] += np.ones((5, 5)) * p\n",
    "            total[j : j + 5, i : i + 5] += np.ones((5, 5))\n",
    "    voting /= total\n",
    "    voting = np.where(voting > threshold, 1, 0)\n",
    "\n",
    "    labeled = []\n",
    "    for j in range(height + 4):\n",
    "        for i in range(width + 4):\n",
    "            sliding_window = [image_start[1] + i * step, image_start[0] + j * step, image_start[1] + (i + 1) * step, image_start[0] + (j + 1) * step]\n",
    "            if voting[j, i] == 1:\n",
    "                labeled.append(sliding_window)\n",
    "    return labeled"
   ]
  },
  {
   "cell_type": "code",
   "execution_count": 12,
   "metadata": {},
   "outputs": [],
   "source": [
    "def save_labeled_image(image, boxes, file_name='output.jpg'):\n",
    "    img = copy.deepcopy(image)\n",
    "    color = np.array([3, 67, 223])\n",
    "    box_width = 2\n",
    "    for box in boxes:\n",
    "        img[box[1] - box_width:box[1] + box_width, box[0]:box[2], :] = np.ones_like(img[box[1] - box_width:box[1] + box_width, box[0]:box[2], :]) * color\n",
    "        img[box[3] - box_width:box[3] + box_width, box[0]:box[2], :] = np.ones_like(img[box[3] - box_width:box[3] + box_width, box[0]:box[2], :]) * color\n",
    "        img[box[1]:box[3], box[0] - box_width:box[0] + box_width, :] = np.ones_like(img[box[1]:box[3], box[0] - box_width:box[0] + box_width, :]) * color\n",
    "        img[box[1]:box[3], box[2] - box_width:box[2] + box_width, :] = np.ones_like(img[box[1]:box[3], box[2] - box_width:box[2] + box_width, :]) * color\n",
    "    plt.imshow(img)\n",
    "    plt.imsave(file_name, img)"
   ]
  },
  {
   "cell_type": "code",
   "execution_count": 13,
   "metadata": {},
   "outputs": [],
   "source": [
    "IMAGE_START = 64\n",
    "AXIS_ZERO = 44     # 1st dataset and 2nd dataset: 121, 3rd dataset: 44\n",
    "\n",
    "model_name = \"svm_model_1n2dataset_probability.joblib\"\n",
    "model = joblib.load(model_name)\n",
    "image_name = \"ARR7_350_230324__001 P_31111111.JPG\"\n",
    "image_path = f\"../data_preprocessing/unprocessed_images/{image_name}\"\n",
    "\n",
    "sliding_window_size = 200\n",
    "step = 40\n",
    "img = cv2.imread(image_path)\n",
    "\n",
    "# scale down\n",
    "scale_percent = 80 # percent of original size\n",
    "width = int(img.shape[1] * scale_percent / 100)\n",
    "height = int(img.shape[0] * scale_percent / 100)\n",
    "dim = (width, height)\n",
    "\n",
    "# resize image\n",
    "img = cv2.resize(img, dim, interpolation = cv2.INTER_AREA)\n",
    "IMAGE_START = int(IMAGE_START * scale_percent / 100)\n",
    "AXIS_ZERO = int(AXIS_ZERO * scale_percent / 100)\n",
    "image_start = [AXIS_ZERO, IMAGE_START]\n",
    "\n",
    "height = math.ceil((img.shape[0] - sliding_window_size - image_start[0]) / step)\n",
    "width = math.ceil((img.shape[1] - sliding_window_size - image_start[1]) / step)\n",
    "number_image = height * width"
   ]
  },
  {
   "cell_type": "code",
   "execution_count": 14,
   "metadata": {},
   "outputs": [
    {
     "name": "stdout",
     "output_type": "stream",
     "text": [
      "(7440, 256)\n"
     ]
    }
   ],
   "source": [
    "count = 0\n",
    "\n",
    "# LBP histogram features\n",
    "radius = 1 # radius of local binary pattern histogram\n",
    "bins = 128 # max = 256 \n",
    "lbp = np.zeros(shape=(number_image, bins))\n",
    "\n",
    "# HoG histogram features\n",
    "hog_array = np.zeros(shape=(number_image, 128))\n",
    "\n",
    "for j in range(height):\n",
    "    for i in range(width):\n",
    "        sliding_window = [image_start[0] + j * step, image_start[1] + i * step, image_start[0] + sliding_window_size + j * step, image_start[1] + sliding_window_size + i * step]\n",
    "        sub_img = img[sliding_window[0]:sliding_window[2], sliding_window[1]:sliding_window[3]]\n",
    "        rgb_weights = [0.2989, 0.5870, 0.1140]\n",
    "        sub_img = np.dot(sub_img[...,:3], rgb_weights)\n",
    "        sub_img = np.array(sub_img).astype(np.uint8)\n",
    "\n",
    "        # add lbp to features\n",
    "        lbp[count] = lbp_histogram(sub_img, radius, bins)\n",
    "        \n",
    "        # add hog to features\n",
    "        hog_array[count] = hog_(sub_img, 8, 200, 60)\n",
    "        \n",
    "        count += 1\n",
    "\n",
    "# Combine Hog and LBP to features array (training data)\n",
    "features = lbp.copy()\n",
    "\n",
    "# normalize lbp\n",
    "for i in range(number_image):\n",
    "    features[i] = norm(features[i])\n",
    "    \n",
    "features = np.insert(features, 128, np.transpose(hog_array), axis=1)\n",
    "print(features.shape)"
   ]
  },
  {
   "cell_type": "code",
   "execution_count": 15,
   "metadata": {},
   "outputs": [],
   "source": [
    "validate_result = model.predict_proba(features)"
   ]
  },
  {
   "cell_type": "code",
   "execution_count": 16,
   "metadata": {},
   "outputs": [
    {
     "data": {
      "image/png": "[encoded data removed]",
      "text/plain": [
       "<Figure size 640x480 with 1 Axes>"
      ]
     },
     "metadata": {},
     "output_type": "display_data"
    }
   ],
   "source": [
    "labeled = label_voting(validate_result, 0.06, img.shape, sliding_window_size, step, [AXIS_ZERO, IMAGE_START])\n",
    "save_labeled_image(img, labeled, file_name='output_SVM.jpg')"
   ]
  }
 ],
 "metadata": {
  "kernelspec": {
   "display_name": "Python 3 (ipykernel)",
   "language": "python",
   "name": "python3"
  },
  "language_info": {
   "codemirror_mode": {
    "name": "ipython",
    "version": 3
   },
   "file_extension": ".py",
   "mimetype": "text/x-python",
   "name": "python",
   "nbconvert_exporter": "python",
   "pygments_lexer": "ipython3",
   "version": "3.10.0"
  }
 },
 "nbformat": 4,
 "nbformat_minor": 2
}
