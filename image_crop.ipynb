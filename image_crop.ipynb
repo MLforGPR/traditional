{
 "cells": [
  {
   "cell_type": "code",
   "execution_count": 45,
   "metadata": {},
   "outputs": [],
   "source": [
    "import os\n",
    "import cv2\n",
    "import matplotlib.pyplot as plt"
   ]
  },
  {
   "cell_type": "code",
   "execution_count": 56,
   "metadata": {},
   "outputs": [],
   "source": [
    "# Boundary constant of images\n",
    "IMAGE_START = 64\n",
    "AXIS_ZERO = 121\n",
    "\n",
    "# sliding window parameters set up\n",
    "sliding_window_size = 200\n",
    "strides = 100    # step of sliding window\n",
    "\n",
    "for image_index in range(23):\n",
    "    img_name = f'UW/WLT_350_210926 P_2111131 WLT_350_210926__{image_index:03} P_2111131.jpg'\n",
    "    if not os.path.exists(img_name):\n",
    "        continue\n",
    "\n",
    "    img = cv2.imread(img_name)\n",
    "\n",
    "    # exclude the left axis and data above 0 ms\n",
    "    img = img[AXIS_ZERO:, IMAGE_START:]\n",
    "\n",
    "    if not os.path.exists(f'UW/cropped/{sliding_window_size}_{strides}/{image_index:03}'):\n",
    "        os.makedirs(f'UW/cropped/{sliding_window_size}_{strides}/{image_index:03}')\n",
    "\n",
    "    for j in range(0, img.shape[0] - 1, strides):\n",
    "        for i in range(0, img.shape[1] - 1, strides):\n",
    "            if j + sliding_window_size > img.shape[0] - 1 or i + sliding_window_size > img.shape[1] - 1:\n",
    "                continue\n",
    "            sub_img = img[j:j + sliding_window_size, i:i + sliding_window_size]\n",
    "            cv2.imwrite(f'UW/cropped/{sliding_window_size}_{strides}/{image_index:03}/{image_index:03}_{j}-{j + sliding_window_size}_{i}-{i + sliding_window_size}.jpg', sub_img)"
   ]
  }
 ],
 "metadata": {
  "kernelspec": {
   "display_name": "Python 3",
   "language": "python",
   "name": "python3"
  },
  "language_info": {
   "codemirror_mode": {
    "name": "ipython",
    "version": 3
   },
   "file_extension": ".py",
   "mimetype": "text/x-python",
   "name": "python",
   "nbconvert_exporter": "python",
   "pygments_lexer": "ipython3",
   "version": "3.10.0"
  },
  "orig_nbformat": 4,
  "vscode": {
   "interpreter": {
    "hash": "369f2c481f4da34e4445cda3fffd2e751bd1c4d706f27375911949ba6bb62e1c"
   }
  }
 },
 "nbformat": 4,
 "nbformat_minor": 2
}
