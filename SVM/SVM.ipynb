{
 "cells": [
  {
   "cell_type": "code",
   "execution_count": 51,
   "metadata": {},
   "outputs": [],
   "source": [
    "from sklearn import svm\n",
    "import pandas as pd\n",
    "import numpy as np\n",
    "import matplotlib.pyplot as plt\n",
    "from sklearn.model_selection import train_test_split\n",
    "from sklearn.metrics import classification_report, confusion_matrix, accuracy_score\n",
    "\n",
    "def svm_model(dataSet, testData_persentage, svm_kernel_type, poly_degree):\n",
    "    img_train, img_test, label_train, label_test = train_test_split(dataSet.data, dataSet.target,test_size=testData_persentage,random_state=0)\n",
    "    classifier = svm.SVC(kernel = svm_kernel_type, C = 1, gamma = 'auto', degree = poly_degree)\n",
    "    \n",
    "    #fitting classifier model\n",
    "    classifier.fit(img_train, label_train)\n",
    "    \n",
    "    # classification_report outputs classification metrics\n",
    "    # such as precision, recall and F1 score\n",
    "    pred_result = classifier.predict(img_train)\n",
    "    print('Classification Training Report: \\n', classification_report(label_train, pred_result))\n",
    "    \n",
    "    # confusion_matrix outputs how many samples are correctly or incorrectly classified\n",
    "    print('Train Confusion Matrix: \\n', confusion_matrix(label_train, pred_result), \"\\n\")\n",
    "\n",
    "    # accuracy computes classification accuracy\n",
    "    print('Train Accuracy: ', accuracy_score(label_train, pred_result))\n",
    "    print('\\n')\n",
    "    \n",
    "    # testing with validate data\n",
    "    validate_result = classifier.predict(img_test)\n",
    "    print('Classification Testing Report: \\n', classification_report(label_test, validate_result))\n",
    "    # `confusion_matrix` outputs how many samples are correctly or incorrectly classified\n",
    "    print('Test Confusion Matrix: \\n', confusion_matrix(label_test, validate_result), \"\\n\")\n",
    "    # `accuracy` computes classification accuracy\n",
    "    print('Test Accuracy: ', accuracy_score(label_test, validate_result))"
   ]
  },
  {
   "cell_type": "code",
   "execution_count": 43,
   "metadata": {},
   "outputs": [
    {
     "name": "stdout",
     "output_type": "stream",
     "text": [
      "(2910, 200, 200)\n",
      "(2910, 40000)\n",
      "Classification Training Report: \n",
      "               precision    recall  f1-score   support\n",
      "\n",
      "           0       1.00      1.00      1.00       686\n",
      "           1       1.00      1.00      1.00       625\n",
      "           2       1.00      1.00      1.00      1017\n",
      "\n",
      "    accuracy                           1.00      2328\n",
      "   macro avg       1.00      1.00      1.00      2328\n",
      "weighted avg       1.00      1.00      1.00      2328\n",
      "\n",
      "Train Confusion Matrix: \n",
      " [[ 686    0    0]\n",
      " [   0  625    0]\n",
      " [   0    0 1017]] \n",
      "\n",
      "Train Accuracy:  1.0\n",
      "\n",
      "\n",
      "Classification Testing Report: \n",
      "               precision    recall  f1-score   support\n",
      "\n",
      "           0       0.00      0.00      0.00       184\n",
      "           1       0.00      0.00      0.00       158\n",
      "           2       0.41      1.00      0.58       240\n",
      "\n",
      "    accuracy                           0.41       582\n",
      "   macro avg       0.14      0.33      0.19       582\n",
      "weighted avg       0.17      0.41      0.24       582\n",
      "\n",
      "Test Confusion Matrix: \n",
      " [[  0   0 184]\n",
      " [  0   0 158]\n",
      " [  0   0 240]] \n",
      "\n",
      "Test Accuracy:  0.41237113402061853\n"
     ]
    },
    {
     "name": "stderr",
     "output_type": "stream",
     "text": [
      "D:\\anaconda3\\lib\\site-packages\\sklearn\\metrics\\_classification.py:1318: UndefinedMetricWarning: Precision and F-score are ill-defined and being set to 0.0 in labels with no predicted samples. Use `zero_division` parameter to control this behavior.\n",
      "  _warn_prf(average, modifier, msg_start, len(result))\n",
      "D:\\anaconda3\\lib\\site-packages\\sklearn\\metrics\\_classification.py:1318: UndefinedMetricWarning: Precision and F-score are ill-defined and being set to 0.0 in labels with no predicted samples. Use `zero_division` parameter to control this behavior.\n",
      "  _warn_prf(average, modifier, msg_start, len(result))\n",
      "D:\\anaconda3\\lib\\site-packages\\sklearn\\metrics\\_classification.py:1318: UndefinedMetricWarning: Precision and F-score are ill-defined and being set to 0.0 in labels with no predicted samples. Use `zero_division` parameter to control this behavior.\n",
      "  _warn_prf(average, modifier, msg_start, len(result))\n"
     ]
    }
   ],
   "source": [
    "# example of using svm_model method\n",
    "# from sklearn import datasets\n",
    "# from sklearn.utils import Bunch\n",
    "\n",
    "#load data from .npz file\n",
    "# npdata = np.load('dataset.npz')\n",
    "\n",
    "# print(npdata['data'].shape)\n",
    "# img=np.zeros(shape=(data_number, cropped_window_size ^ 2))\n",
    "# for i in range(0, data_number): \n",
    "#     img[i] = npdata['data'][i].reshape(-1) #flatten image - input data must be 1d-array\n",
    "# print(img.shape)\n",
    "\n",
    "# make dataset in Bunch format \n",
    "# dataset = Bunch(data = img, target=npdata['label'])\n",
    "\n",
    "# svm_model(dataset, 0.2, 'rbf', 3)"
   ]
  }
 ],
 "metadata": {
  "kernelspec": {
   "display_name": "Python 3 (ipykernel)",
   "language": "python",
   "name": "python3"
  },
  "language_info": {
   "codemirror_mode": {
    "name": "ipython",
    "version": 3
   },
   "file_extension": ".py",
   "mimetype": "text/x-python",
   "name": "python",
   "nbconvert_exporter": "python",
   "pygments_lexer": "ipython3",
   "version": "3.9.13"
  }
 },
 "nbformat": 4,
 "nbformat_minor": 4
}
